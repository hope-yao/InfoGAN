{
 "cells": [
  {
   "cell_type": "code",
   "execution_count": 16,
   "metadata": {
    "collapsed": false
   },
   "outputs": [
    {
     "name": "stdout",
     "output_type": "stream",
     "text": [
      "Once deleted, variables cannot be recovered. Proceed (y/[n])? y\n"
     ]
    }
   ],
   "source": [
    "% reset\n",
    "import seaborn as sns\n",
    "sns.set()\n",
    "import numpy as np\n",
    "import matplotlib.pyplot as plt\n",
    "from scipy.misc import imrotate as imgrot\n"
   ]
  },
  {
   "cell_type": "code",
   "execution_count": 171,
   "metadata": {
    "collapsed": false
   },
   "outputs": [
    {
     "data": {
      "text/plain": [
       "array([[0, 1, 0, 0, 0, 0, 0, 0, 0, 0],\n",
       "       [0, 1, 0, 0, 0, 0, 0, 0, 0, 0],\n",
       "       [0, 1, 0, 0, 0, 0, 0, 0, 0, 0],\n",
       "       [0, 1, 0, 0, 0, 0, 0, 0, 0, 0]])"
      ]
     },
     "execution_count": 171,
     "metadata": {},
     "output_type": "execute_result"
    }
   ],
   "source": [
    "np.repeat(np.asarray([[0,1,0,0,0,0,0,0,0,0]]),4,axis=0)"
   ]
  },
  {
   "cell_type": "code",
   "execution_count": 169,
   "metadata": {
    "collapsed": false
   },
   "outputs": [
    {
     "data": {
      "text/plain": [
       "array([[0, 1, 0, 0, 0, 0, 0, 0, 0, 0],\n",
       "       [0, 1, 0, 0, 0, 0, 0, 0, 0, 0]])"
      ]
     },
     "execution_count": 169,
     "metadata": {},
     "output_type": "execute_result"
    }
   ],
   "source": [
    "np.vstack(([0,1,0,0,0,0,0,0,0,0],[0,1,0,0,0,0,0,0,0,0]))"
   ]
  },
  {
   "cell_type": "code",
   "execution_count": 111,
   "metadata": {
    "collapsed": false
   },
   "outputs": [],
   "source": [
    "def rect_generator(center_x, center_y, scale,angle=0):\n",
    "    size = 28\n",
    "    data = np.zeros((size,size))\n",
    "    d = 2\n",
    "    lb_x = center_x-scale \n",
    "    ub_x = center_x+scale\n",
    "    lb_y = center_y-scale \n",
    "    ub_y = center_y+scale\n",
    "#     data[lb-d:ub+d,lb-d:ub+d]=1\n",
    "#     data[lb+d:ub-d,lb+d:ub-d]=0\n",
    "    data[lb_x-d:ub_x+d,lb_y-d:ub_y+d]=1\n",
    "    data[lb_x:ub_x,lb_y:ub_y]=0\n",
    "    return data\n",
    "\n",
    "def crs_generator(center_x, center_y, scale,angle=0):\n",
    "    size = 28\n",
    "    data = np.zeros((size,size))\n",
    "    d = 1\n",
    "    lb_x = center_x-scale \n",
    "    ub_x = center_x+scale\n",
    "    lb_y = center_y-scale \n",
    "    ub_y = center_y+scale\n",
    "    data[lb_x:ub_x,center_y-1:center_y+1]=1\n",
    "    data[center_x-1:center_x+1,lb_y:ub_y]=1\n",
    "    return data\n",
    "\n",
    "def rectcrs_generator(center_x, center_y, scale,angle=0):\n",
    "    size = 28\n",
    "    data = np.zeros((size,size))\n",
    "    d = 1\n",
    "    lb_x = center_x-scale \n",
    "    ub_x = center_x+scale\n",
    "    lb_y = center_y-scale \n",
    "    ub_y = center_y+scale\n",
    "    data[lb_x-d:ub_x+d,lb_y-d:ub_y+d]=1\n",
    "    data[lb_x:ub_x,lb_y:ub_y]=0\n",
    "    \n",
    "    lb_x = center_x-scale \n",
    "    ub_x = center_x+scale\n",
    "    lb_y = center_y-scale \n",
    "    ub_y = center_y+scale\n",
    "    data[lb_x:ub_x,center_y-1:center_y+1]=1\n",
    "    data[center_x-1:center_x+1,lb_y:ub_y]=1\n",
    "\n",
    "    return data\n",
    "\n",
    "def sph_generator(center_x, center_y, scale,angle=0):\n",
    "    from skimage.draw import circle_perimeter\n",
    "    img = np.zeros((28, 28), dtype=np.uint8)\n",
    "    rr, cc = circle_perimeter(center_x, center_y, scale)\n",
    "    img[rr, cc] = 1\n",
    "    rr, cc = circle_perimeter(center_x, center_y, scale-1)\n",
    "    img[rr, cc] = 1\n",
    "#     plt.imshow(img)\n",
    "    return img"
   ]
  },
  {
   "cell_type": "code",
   "execution_count": 104,
   "metadata": {
    "collapsed": false
   },
   "outputs": [],
   "source": [
    "rect_img = []\n",
    "rect_label = []\n",
    "cross_img = []\n",
    "cross_label = []\n",
    "rectcrs_img = []\n",
    "rectcrs_label = []\n",
    "sph_img = []\n",
    "sph_label = []\n",
    "\n",
    "import itertools\n",
    "center_x = center_y = [13,14,15]\n",
    "centers = list(itertools.product(center_x, center_y))\n",
    "\n",
    "for i in range(1,90):\n",
    "    for center in centers:\n",
    "        center_x, center_y = center\n",
    "        data = rect_generator(center_x, center_y, 8)\n",
    "        data = imgrot(data, i, interp='bicubic')\n",
    "        rect_img = rect_img + [data.reshape(28*28)]\n",
    "        rect_label = rect_label + [np.asarray([0,1])]\n",
    "        data = rect_generator(center_x, center_y, 7)\n",
    "        data = imgrot(data, i, interp='bicubic')\n",
    "        rect_img = rect_img + [data.reshape(28*28)]\n",
    "        rect_label = rect_label + [np.asarray([0,1])]\n",
    "        data = rect_generator(center_x, center_y, 6)\n",
    "        data = imgrot(data, i, interp='bicubic')\n",
    "        rect_img = rect_img + [data.reshape(28*28)]\n",
    "        rect_label = rect_label + [np.asarray([0,1])]\n",
    "\n",
    "        data = crs_generator(center_x, center_y, 10)\n",
    "        data = imgrot(data, i, interp='bicubic')\n",
    "        cross_img = cross_img + [data.reshape(28*28)]\n",
    "        cross_label = cross_label + [np.asarray([1,0])]\n",
    "        data = crs_generator(center_x, center_y, 9)\n",
    "        data = imgrot(data, i, interp='bicubic')\n",
    "        cross_img = cross_img + [data.reshape(28*28)]\n",
    "        cross_label = cross_label + [np.asarray([1,0])]\n",
    "        data = crs_generator(center_x, center_y, 8)\n",
    "        data = imgrot(data, i, interp='bicubic')\n",
    "        cross_img = cross_img + [data.reshape(28*28)]\n",
    "        cross_label = cross_label + [np.asarray([1,0])]\n",
    "\n",
    "        data = rectcrs_generator(center_x, center_y, 10)\n",
    "        data = imgrot(data, i, interp='bicubic')\n",
    "        rectcrs_img = rectcrs_img + [data.reshape(28*28)]\n",
    "        rectcrs_label = rectcrs_label + [np.asarray([1,0])]\n",
    "        data = rectcrs_generator(center_x, center_y, 9)\n",
    "        data = imgrot(data, i, interp='bicubic')\n",
    "        rectcrs_img = rectcrs_img + [data.reshape(28*28)]\n",
    "        rectcrs_label = rectcrs_label + [np.asarray([1,0])]\n",
    "        data = rectcrs_generator(center_x, center_y, 8)\n",
    "        data = imgrot(data, i, interp='bicubic')\n",
    "        rectcrs_img = rectcrs_img + [data.reshape(28*28)]\n",
    "        rectcrs_label = rectcrs_label + [np.asarray([1,0])]\n",
    "\n",
    "        data = sph_generator(center_x, center_y, 10)\n",
    "#         data = imgrot(data, i, interp='bicubic')\n",
    "        sph_img = sph_img + [data.reshape(28*28)]\n",
    "        sph_label = sph_label + [np.asarray([1,0])]\n",
    "        data = sph_generator(center_x, center_y, 9)\n",
    "#         data = imgrot(data, i, interp='bicubic')\n",
    "        sph_img = sph_img + [data.reshape(28*28)]\n",
    "        sph_label = sph_label + [np.asarray([1,0])]\n",
    "        data = sph_generator(center_x, center_y, 8)\n",
    "#         data = imgrot(data, i, interp='bicubic')\n",
    "        sph_img = sph_img + [data.reshape(28*28)]\n",
    "        sph_label = sph_label + [np.asarray([1,0])]\n",
    "\n",
    "rect_img = np.asarray(rect_img)\n",
    "rect_label = np.asarray(rect_label)\n",
    "cross_img = np.asarray(cross_img)\n",
    "cross_label = np.asarray(cross_label)\n",
    "rectcrs_img = np.asarray(rectcrs_img)\n",
    "rectcrs_label = np.asarray(rectcrs_label)\n",
    "sph_img = np.asarray(sph_img)\n",
    "sph_label = np.asarray(sph_label)\n",
    "dictionary = {'rect_img':rect_img,'rect_label':rect_label,'cross_img':cross_img,'cross_label':cross_label\\\n",
    "             ,'rectcrs_img':rectcrs_img,'rectcrs_label':rectcrs_label,'sph_img':sph_img,'sph_label':sph_label}\n",
    "np.save('rec_crs.npy', dictionary) "
   ]
  },
  {
   "cell_type": "code",
   "execution_count": 124,
   "metadata": {
    "collapsed": false
   },
   "outputs": [
    {
     "data": {
      "image/png": "[encoded data removed]",
      "text/plain": [
       "<matplotlib.figure.Figure at 0x7f0d247ff850>"
      ]
     },
     "metadata": {},
     "output_type": "display_data"
    }
   ],
   "source": [
    "% matplotlib inline\n",
    "data = sph_generator(center_x, center_y, 10)\n",
    "data = imgrot(data, 10, interp='bicubic')\n",
    "plt.imshow(data)\n",
    "plt.show()"
   ]
  },
  {
   "cell_type": "code",
   "execution_count": 28,
   "metadata": {
    "collapsed": false
   },
   "outputs": [
    {
     "name": "stdout",
     "output_type": "stream",
     "text": [
      "0\n",
      "1\n"
     ]
    }
   ],
   "source": [
    "HID_DIM1 = 2\n",
    "all_inputs = pt.template(\"input\")\n",
    "pretty_input_cat = all_inputs[:, 1:1+HID_DIM1]  # pt.template(\"input_cat\")\n",
    "pretty_input_cont = all_inputs[:, 1+HID_DIM1:]  # pt.template(\"input_cont\")\n",
    "batch_size = 16\n",
    "image_size = 28\n",
    "seq_cnt = pretty_input_cont.fully_connected(100)\n",
    "\n",
    "seq_cat = []\n",
    "rotated_output = []\n",
    "output = []\n",
    "for i in range(HID_DIM1):\n",
    "    tmp = pretty_input_cat[:, i].reshape([batch_size, 1])\n",
    "    seq_cat = seq_cat + [tmp.fully_connected(image_size * image_size)]\n",
    "    #         seq_cat[i].reshape(([-1, image_size, image_size, 1]))\n",
    "\n",
    "    rotated_output = rotated_output + [seq_cnt.join([seq_cat[i]])]\n",
    "    print(i)\n",
    "    output = output + [rotated_output[i].fully_connected(image_size * image_size)]\n",
    "\n",
    "generator_template = output[0]\n",
    "for i in range(1, HID_DIM1):\n",
    "    generator_template += output[i]"
   ]
  },
  {
   "cell_type": "code",
   "execution_count": null,
   "metadata": {
    "collapsed": false
   },
   "outputs": [
    {
     "name": "stdout",
     "output_type": "stream",
     "text": [
      "Once deleted, variables cannot be recovered. Proceed (y/[n])? y\n"
     ]
    }
   ],
   "source": [
    "%reset\n",
    "import numpy\n",
    "from infogan.misc.visualization.python.util_vtk import visualization\n",
    "imgs = numpy.load('img.npy')\n",
    "img = numpy.squeeze(imgs[0])\n",
    "visualization(img, 0.62,  uniform_size=0.9)\n"
   ]
  },
  {
   "cell_type": "code",
   "execution_count": 2,
   "metadata": {
    "collapsed": false
   },
   "outputs": [],
   "source": [
    "from infogan.misc.datasets import MnistDataset, ModelNet10, rec_crs\n",
    "import numpy\n",
    "dataset = ModelNet10(False)\n",
    "img = dataset.train.images[0:1000].reshape(1000,32,32,32)\n",
    "numpy.save('img.npy',img)\n",
    "# visualization(img, 0.62,  uniform_size=0.9)\n"
   ]
  },
  {
   "cell_type": "code",
   "execution_count": 127,
   "metadata": {
    "collapsed": false
   },
   "outputs": [],
   "source": [
    "import numpy as np\n",
    "import seaborn as sns\n",
    "\n",
    "data = np.load('imgs.npy')\n",
    "imgs = np.squeeze(data)\n",
    "plt.imshow(imgs)\n",
    "plt.show(True)"
   ]
  },
  {
   "cell_type": "code",
   "execution_count": 124,
   "metadata": {
    "collapsed": false
   },
   "outputs": [],
   "source": [
    "HID_DIM1 = 2\n",
    "inputs = pt.template(\"input\")\n",
    "# hidden1 = inputs.reshape([-1,28,28,1])#.conv2d(2,4).reshape([-1] + [28*28*2])\n",
    "hidden1 = inputs.reshape([-1] + list(image_shape) + [1]).conv2d(4,2).reshape([-1] + [28*28*2])\n",
    "hidden21 = hidden1[:,0:28*28]\n",
    "hidden22 = hidden1[:,28*28:28*28*2]\n",
    "hidden31 = hidden21.fully_connected(image_size * image_size+100)\n",
    "hidden32 = hidden22.fully_connected(image_size * image_size+100)\n",
    "hidden40 = hidden31[:,0:100] + hidden32[:,0:100]\n",
    "hidden41 = hidden31[:,100:image_size * image_size]\n",
    "hidden42 = hidden32[:,100:image_size * image_size]\n",
    "hidden50 = hidden41.fully_connected(1)\n",
    "hidden51 = hidden41.fully_connected(1)\n",
    "hidden52 = hidden42.fully_connected(1)\n",
    "\n",
    "z_var = hidden50.join([hidden51, hidden52])\n"
   ]
  },
  {
   "cell_type": "code",
   "execution_count": 125,
   "metadata": {
    "collapsed": false
   },
   "outputs": [
    {
     "data": {
      "text/plain": [
       "[100, 1568]"
      ]
     },
     "execution_count": 125,
     "metadata": {},
     "output_type": "execute_result"
    }
   ],
   "source": [
    "hidden1.construct(input=np.zeros((100,28,28,1),dtype='float32')).shape"
   ]
  },
  {
   "cell_type": "code",
   "execution_count": 107,
   "metadata": {
    "collapsed": false
   },
   "outputs": [
    {
     "data": {
      "text/plain": [
       "(28, 28)"
      ]
     },
     "execution_count": 107,
     "metadata": {},
     "output_type": "execute_result"
    }
   ],
   "source": [
    "image_shape"
   ]
  },
  {
   "cell_type": "code",
   "execution_count": 45,
   "metadata": {
    "collapsed": false
   },
   "outputs": [
    {
     "ename": "AttributeError",
     "evalue": "'_DeferredLayer' object has no attribute 'custom_fc_batch_norm'",
     "output_type": "error",
     "traceback": [
      "\u001b[1;31m---------------------------------------------------------------------------\u001b[0m",
      "\u001b[1;31mAttributeError\u001b[0m                            Traceback (most recent call last)",
      "\u001b[1;32m<ipython-input-45-725645ad2228>\u001b[0m in \u001b[0;36m<module>\u001b[1;34m()\u001b[0m\n\u001b[0;32m      6\u001b[0m \u001b[1;33m\u001b[0m\u001b[0m\n\u001b[0;32m      7\u001b[0m generator_template =                     (pt.template(\"input\").\n\u001b[1;32m----> 8\u001b[1;33m                      \u001b[0mcustom_fully_connected\u001b[0m\u001b[1;33m(\u001b[0m\u001b[1;36m1024\u001b[0m\u001b[1;33m)\u001b[0m\u001b[1;33m.\u001b[0m\u001b[1;33m\u001b[0m\u001b[0m\n\u001b[0m\u001b[0;32m      9\u001b[0m                      \u001b[0mcustom_fc_batch_norm\u001b[0m\u001b[1;33m(\u001b[0m\u001b[1;33m)\u001b[0m\u001b[1;33m.\u001b[0m\u001b[1;33m\u001b[0m\u001b[0m\n\u001b[0;32m     10\u001b[0m                      \u001b[0mapply\u001b[0m\u001b[1;33m(\u001b[0m\u001b[0mtf\u001b[0m\u001b[1;33m.\u001b[0m\u001b[0mnn\u001b[0m\u001b[1;33m.\u001b[0m\u001b[0mrelu\u001b[0m\u001b[1;33m)\u001b[0m\u001b[1;33m.\u001b[0m\u001b[1;33m\u001b[0m\u001b[0m\n",
      "\u001b[1;31mAttributeError\u001b[0m: '_DeferredLayer' object has no attribute 'custom_fc_batch_norm'"
     ]
    }
   ],
   "source": [
    "import prettytensor as pt\n",
    "import tensorflow as tf\n",
    "image_shape = (28,28)\n",
    "\n",
    "generator_template = \\\n",
    "                    (pt.template(\"input\").\n",
    "                     custom_fully_connected(1024).\n",
    "                     custom_fc_batch_norm().\n",
    "                     apply(tf.nn.relu).\n",
    "                     custom_fully_connected(image_size / 4 * image_size / 4 * 128).\n",
    "                     fc_batch_norm().\n",
    "                     apply(tf.nn.relu).\n",
    "                     reshape([-1, image_size / 4, image_size / 4, 128]).\n",
    "                     custom_deconv2d([0, image_size / 2, image_size / 2, 64], k_h=4, k_w=4).\n",
    "                     conv_batch_norm().\n",
    "                     apply(tf.nn.relu).\n",
    "                     custom_deconv2d([0] + list(image_shape), k_h=4, k_w=4).\n",
    "                     flatten())\n",
    "    "
   ]
  },
  {
   "cell_type": "code",
   "execution_count": 209,
   "metadata": {
    "collapsed": false,
    "scrolled": true
   },
   "outputs": [
    {
     "name": "stdout",
     "output_type": "stream",
     "text": [
      "Extracting MNIST/train-images-idx3-ubyte.gz\n",
      "Extracting MNIST/train-labels-idx1-ubyte.gz\n",
      "Extracting MNIST/t10k-images-idx3-ubyte.gz\n",
      "Extracting MNIST/t10k-labels-idx1-ubyte.gz\n"
     ]
    },
    {
     "ename": "ValueError",
     "evalue": "Cannot feed value of shape (16,) for Tensor u'Placeholder_14:0', which has shape '(16, 10)'",
     "output_type": "error",
     "traceback": [
      "\u001b[1;31m---------------------------------------------------------------------------\u001b[0m",
      "\u001b[1;31mValueError\u001b[0m                                Traceback (most recent call last)",
      "\u001b[1;32m<ipython-input-209-3814fbe75404>\u001b[0m in \u001b[0;36m<module>\u001b[1;34m()\u001b[0m\n\u001b[0;32m     16\u001b[0m     \u001b[0msess\u001b[0m\u001b[1;33m.\u001b[0m\u001b[0mrun\u001b[0m\u001b[1;33m(\u001b[0m\u001b[0minit_op\u001b[0m\u001b[1;33m)\u001b[0m\u001b[1;33m\u001b[0m\u001b[0m\n\u001b[0;32m     17\u001b[0m     \u001b[0mfeed_dict\u001b[0m \u001b[1;33m=\u001b[0m \u001b[1;33m{\u001b[0m\u001b[0minput_data\u001b[0m\u001b[1;33m:\u001b[0m \u001b[0mx_train\u001b[0m\u001b[1;33m.\u001b[0m\u001b[0mreshape\u001b[0m\u001b[1;33m(\u001b[0m\u001b[1;33m(\u001b[0m\u001b[0mBATCH_SIZE\u001b[0m\u001b[1;33m,\u001b[0m\u001b[1;36m28\u001b[0m\u001b[1;33m,\u001b[0m\u001b[1;36m28\u001b[0m\u001b[1;33m,\u001b[0m\u001b[1;36m1\u001b[0m\u001b[1;33m)\u001b[0m\u001b[1;33m)\u001b[0m\u001b[1;33m,\u001b[0m \u001b[0mlabels\u001b[0m\u001b[1;33m:\u001b[0m \u001b[0my_train\u001b[0m\u001b[1;33m}\u001b[0m\u001b[1;33m\u001b[0m\u001b[0m\n\u001b[1;32m---> 18\u001b[1;33m     \u001b[0munused_loss_value\u001b[0m\u001b[1;33m,\u001b[0m \u001b[0maccuracy_value\u001b[0m \u001b[1;33m=\u001b[0m \u001b[0msess\u001b[0m\u001b[1;33m.\u001b[0m\u001b[0mrun\u001b[0m\u001b[1;33m(\u001b[0m\u001b[0mtrain_op\u001b[0m\u001b[1;33m,\u001b[0m\u001b[0mfeed_dict\u001b[0m\u001b[1;33m)\u001b[0m\u001b[1;33m\u001b[0m\u001b[0m\n\u001b[0m\u001b[0;32m     19\u001b[0m     \u001b[1;32mprint\u001b[0m \u001b[1;34m'Accuracy: %g'\u001b[0m \u001b[1;33m%\u001b[0m \u001b[0maccuracy_value\u001b[0m\u001b[1;33m\u001b[0m\u001b[0m\n",
      "\u001b[1;32m/home/hope-yao/anaconda2/lib/python2.7/site-packages/tensorflow/python/client/session.pyc\u001b[0m in \u001b[0;36mrun\u001b[1;34m(self, fetches, feed_dict, options, run_metadata)\u001b[0m\n\u001b[0;32m    764\u001b[0m     \u001b[1;32mtry\u001b[0m\u001b[1;33m:\u001b[0m\u001b[1;33m\u001b[0m\u001b[0m\n\u001b[0;32m    765\u001b[0m       result = self._run(None, fetches, feed_dict, options_ptr,\n\u001b[1;32m--> 766\u001b[1;33m                          run_metadata_ptr)\n\u001b[0m\u001b[0;32m    767\u001b[0m       \u001b[1;32mif\u001b[0m \u001b[0mrun_metadata\u001b[0m\u001b[1;33m:\u001b[0m\u001b[1;33m\u001b[0m\u001b[0m\n\u001b[0;32m    768\u001b[0m         \u001b[0mproto_data\u001b[0m \u001b[1;33m=\u001b[0m \u001b[0mtf_session\u001b[0m\u001b[1;33m.\u001b[0m\u001b[0mTF_GetBuffer\u001b[0m\u001b[1;33m(\u001b[0m\u001b[0mrun_metadata_ptr\u001b[0m\u001b[1;33m)\u001b[0m\u001b[1;33m\u001b[0m\u001b[0m\n",
      "\u001b[1;32m/home/hope-yao/anaconda2/lib/python2.7/site-packages/tensorflow/python/client/session.pyc\u001b[0m in \u001b[0;36m_run\u001b[1;34m(self, handle, fetches, feed_dict, options, run_metadata)\u001b[0m\n\u001b[0;32m    941\u001b[0m                 \u001b[1;34m'Cannot feed value of shape %r for Tensor %r, '\u001b[0m\u001b[1;33m\u001b[0m\u001b[0m\n\u001b[0;32m    942\u001b[0m                 \u001b[1;34m'which has shape %r'\u001b[0m\u001b[1;33m\u001b[0m\u001b[0m\n\u001b[1;32m--> 943\u001b[1;33m                 % (np_val.shape, subfeed_t.name, str(subfeed_t.get_shape())))\n\u001b[0m\u001b[0;32m    944\u001b[0m           \u001b[1;32mif\u001b[0m \u001b[1;32mnot\u001b[0m \u001b[0mself\u001b[0m\u001b[1;33m.\u001b[0m\u001b[0mgraph\u001b[0m\u001b[1;33m.\u001b[0m\u001b[0mis_feedable\u001b[0m\u001b[1;33m(\u001b[0m\u001b[0msubfeed_t\u001b[0m\u001b[1;33m)\u001b[0m\u001b[1;33m:\u001b[0m\u001b[1;33m\u001b[0m\u001b[0m\n\u001b[0;32m    945\u001b[0m             \u001b[1;32mraise\u001b[0m \u001b[0mValueError\u001b[0m\u001b[1;33m(\u001b[0m\u001b[1;34m'Tensor %s may not be fed.'\u001b[0m \u001b[1;33m%\u001b[0m \u001b[0msubfeed_t\u001b[0m\u001b[1;33m)\u001b[0m\u001b[1;33m\u001b[0m\u001b[0m\n",
      "\u001b[1;31mValueError\u001b[0m: Cannot feed value of shape (16,) for Tensor u'Placeholder_14:0', which has shape '(16, 10)'"
     ]
    }
   ],
   "source": [
    "import os\n",
    "from tensorflow.examples.tutorials import mnist\n",
    "\n",
    "optimizer = tf.train.GradientDescentOptimizer(0.1)  # learning rate\n",
    "train_op = pt.apply_optimizer(optimizer, losses=[result.loss])\n",
    "data_directory = \"MNIST\"\n",
    "if not os.path.exists(data_directory):\n",
    "    os.makedirs(data_directory)\n",
    "\n",
    "dataset = MnistDataset(True)\n",
    "x_train, y_train =dataset.train.next_batch(BATCH_SIZE)\n",
    "\n",
    "init_op = tf.global_variables_initializer()\n",
    "\n",
    "with tf.Session() as sess:\n",
    "    sess.run(init_op)\n",
    "    feed_dict = {input_data: x_train.reshape((BATCH_SIZE,28,28,1)), labels: y_train}\n",
    "    unused_loss_value, accuracy_value = sess.run(train_op,feed_dict)\n",
    "    print 'Accuracy: %g' % accuracy_value\n"
   ]
  }
 ],
 "metadata": {
  "kernelspec": {
   "display_name": "Python [Root]",
   "language": "python",
   "name": "Python [Root]"
  },
  "language_info": {
   "codemirror_mode": {
    "name": "ipython",
    "version": 2
   },
   "file_extension": ".py",
   "mimetype": "text/x-python",
   "name": "python",
   "nbconvert_exporter": "python",
   "pygments_lexer": "ipython2",
   "version": "2.7.12"
  }
 },
 "nbformat": 4,
 "nbformat_minor": 0
}
